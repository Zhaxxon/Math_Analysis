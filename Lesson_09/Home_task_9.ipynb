{
 "cells": [
  {
   "cell_type": "markdown",
   "metadata": {},
   "source": [
    "# Тема “Производные функций нескольких переменных. 2 часть”"
   ]
  },
  {
   "cell_type": "markdown",
   "metadata": {},
   "source": [
    "### Задание 1:\n",
    "![home_task_09](./img/9.1.jpg)"
   ]
  },
  {
   "cell_type": "markdown",
   "metadata": {},
   "source": [
    "### Задание 3:\n"
   ]
  },
  {
   "cell_type": "code",
   "execution_count": 1,
   "metadata": {},
   "outputs": [],
   "source": [
    "from scipy.optimize import fsolve\n",
    "import matplotlib.pyplot as plt\n",
    "import math\n",
    "import numpy as np\n",
    "%matplotlib inline"
   ]
  },
  {
   "cell_type": "code",
   "execution_count": 3,
   "metadata": {},
   "outputs": [],
   "source": [
    "def test(x, y, boundary=10**(-8)):\n",
    "    x2 = x**2\n",
    "    x3 = x**3\n",
    "    y2 = y**2\n",
    "    y3 = y**3\n",
    "    r1 = x2-y2+3*x*y3-2*x2*y2+2*x-3*y-5\n",
    "    r2 = 3*y3-2*x2+2*y*x**3-5*x2*y2+5\n",
    "    return abs(r1) < boundary and abs(r2) < boundary\n",
    "\n",
    "def equations(p):\n",
    "    x, y = p\n",
    "    x2 = x**2\n",
    "    x3 = x**3\n",
    "    y2 = y**2\n",
    "    y3 = y**3\n",
    "    return (x2-y2+3*x*y3-2*x2*y2+2*x-3*y-5, 3*y3-2*x2+2*y*x**3-5*x2*y2+5)"
   ]
  },
  {
   "cell_type": "code",
   "execution_count": 4,
   "metadata": {},
   "outputs": [
    {
     "name": "stdout",
     "output_type": "stream",
     "text": [
      "1.375687140388597 -0.17475798540737905\n"
     ]
    }
   ],
   "source": [
    "x, y =  fsolve(equations, (1, 1))\n",
    "print (x, y)\n",
    "test(x, y);"
   ]
  }
 ],
 "metadata": {
  "kernelspec": {
   "display_name": "Python 3",
   "language": "python",
   "name": "python3"
  },
  "language_info": {
   "codemirror_mode": {
    "name": "ipython",
    "version": 3
   },
   "file_extension": ".py",
   "mimetype": "text/x-python",
   "name": "python",
   "nbconvert_exporter": "python",
   "pygments_lexer": "ipython3",
   "version": "3.7.4"
  }
 },
 "nbformat": 4,
 "nbformat_minor": 2
}
