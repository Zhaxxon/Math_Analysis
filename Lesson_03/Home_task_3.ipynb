{
 "cells": [
  {
   "cell_type": "markdown",
   "metadata": {},
   "source": [
    "# Тема “Математическая логика”"
   ]
  },
  {
   "cell_type": "markdown",
   "metadata": {},
   "source": [
    "### Задание 1 и 2:\n",
    "Проверить любым способ, является ли данная логическая\n",
    "формула тавтологией:\n",
    "![home_task_03](./img/3.1.jpg)"
   ]
  },
  {
   "cell_type": "markdown",
   "metadata": {},
   "source": [
    "![home_task_03](./img/3.1.1.jpg)"
   ]
  },
  {
   "cell_type": "markdown",
   "metadata": {},
   "source": [
    "![home_task_03](./img/3.2.jpg)"
   ]
  },
  {
   "cell_type": "markdown",
   "metadata": {},
   "source": [
    "![home_task_03](./img/3.2.2.jpg)"
   ]
  },
  {
   "cell_type": "markdown",
   "metadata": {},
   "source": [
    "### Задание 3 и 4:\n",
    "Сформулируйте словесно высказывания:\n",
    "\n",
    "А: сегодня светит солнце; \n",
    "\n",
    "В: сегодня сыро; \n",
    "\n",
    "С: я поеду на дачу. \n",
    "![home_task_03](./img/3.3.jpg)"
   ]
  },
  {
   "cell_type": "markdown",
   "metadata": {},
   "source": [
    "Если сегодня не будет светить солнце или будет сыро, то я не поеду на дачу."
   ]
  },
  {
   "cell_type": "markdown",
   "metadata": {},
   "source": [
    "![home_task_03](./img/3.4.jpg)"
   ]
  },
  {
   "cell_type": "markdown",
   "metadata": {},
   "source": [
    "Если я поеду на дачу, значит сегодня светит солнце или сегодня не сыро. "
   ]
  },
  {
   "cell_type": "markdown",
   "metadata": {},
   "source": [
    "### Задание 5, 6 и 7\n",
    "Пользуясь правилом построения противоположного высказывания, записать утверждения, противоположные следующим:"
   ]
  },
  {
   "cell_type": "markdown",
   "metadata": {},
   "source": [
    "![home_task_03](./img/3.5.jpg)"
   ]
  },
  {
   "cell_type": "markdown",
   "metadata": {},
   "source": [
    "Существуют курсы или факультеты, где нет студентов, сдающих все экзамены на \"отлично\"."
   ]
  },
  {
   "cell_type": "markdown",
   "metadata": {},
   "source": [
    "![home_task_03](./img/3.6.jpg)"
   ]
  },
  {
   "cell_type": "markdown",
   "metadata": {},
   "source": [
    "Есть студенты философского факультета, которые не имеют друга, который умеет решать все логические задачи."
   ]
  },
  {
   "cell_type": "markdown",
   "metadata": {},
   "source": [
    "![home_task_03](./img/3.7.jpg)"
   ]
  },
  {
   "cell_type": "markdown",
   "metadata": {},
   "source": [
    "Есть самолет рейса Вашингтон-Москва где все сотрудники силовых органов на борту имеют пуговицу с микрофоном."
   ]
  },
  {
   "cell_type": "markdown",
   "metadata": {},
   "source": [
    "# Тема “Множества. Предел последовательности”"
   ]
  },
  {
   "cell_type": "markdown",
   "metadata": {},
   "source": [
    "### Задание 8\n",
    "Представьте в виде несократимой рациональной дроби: 0.(216)"
   ]
  },
  {
   "cell_type": "markdown",
   "metadata": {},
   "source": [
    "a = 0.(216)\n",
    "\n",
    "1000*a = 216.(216)\n",
    "\n",
    "1000*a = 216 + a\n",
    "\n",
    "999*a = 216\n",
    "\n",
    "a = 216/999 \n",
    "\n",
    "a = 8/37"
   ]
  },
  {
   "cell_type": "markdown",
   "metadata": {},
   "source": [
    "### Задание 9\n",
    "Представьте в виде несократимой рациональной дроби: 1.0(01)"
   ]
  },
  {
   "cell_type": "markdown",
   "metadata": {},
   "source": [
    "a - 1 = 0.0(01)\n",
    "\n",
    "1000*(a-1) = 1.(01) \n",
    "\n",
    "1000a-1000 = 1 + (a-1)*10\n",
    "\n",
    "1000a-1000 = 1 + 10a - 10\n",
    "\n",
    "990*a = 991\n",
    "\n",
    "a = 991/990"
   ]
  },
  {
   "cell_type": "markdown",
   "metadata": {},
   "source": [
    "### Задание 10:\n",
    "Представьте 1 в виде суммы трех рациональных дробей с\n",
    "разными знаменателями и числителем равным 1."
   ]
  },
  {
   "cell_type": "code",
   "execution_count": 4,
   "metadata": {
    "scrolled": true
   },
   "outputs": [
    {
     "name": "stdout",
     "output_type": "stream",
     "text": [
      "2 3 6 => 0.9999999999999999\n"
     ]
    }
   ],
   "source": [
    "for a in range(2, 100):\n",
    "    for b in range(a, 100):\n",
    "        for c in range(b, 100):\n",
    "            if a*b*c == b*c + a*c + a*b and a != b != c != a:\n",
    "                print(a, b, c, '=>', 1/a + 1/b + 1/c)"
   ]
  },
  {
   "cell_type": "markdown",
   "metadata": {},
   "source": [
    "Ответ: 1 = 1/2 + 1/3 + 1/6"
   ]
  },
  {
   "cell_type": "markdown",
   "metadata": {},
   "source": [
    "### Задание 11\n",
    "Найдите значение предела:\n",
    "![home_task_03](./img/3.11.jpg)"
   ]
  },
  {
   "cell_type": "markdown",
   "metadata": {},
   "source": [
    "Ответ: предел равен 0"
   ]
  }
 ],
 "metadata": {
  "kernelspec": {
   "display_name": "Python 3",
   "language": "python",
   "name": "python3"
  },
  "language_info": {
   "codemirror_mode": {
    "name": "ipython",
    "version": 3
   },
   "file_extension": ".py",
   "mimetype": "text/x-python",
   "name": "python",
   "nbconvert_exporter": "python",
   "pygments_lexer": "ipython3",
   "version": "3.7.4"
  }
 },
 "nbformat": 4,
 "nbformat_minor": 2
}
