{
 "cells": [
  {
   "cell_type": "markdown",
   "metadata": {},
   "source": [
    "# Тема “Множество”"
   ]
  },
  {
   "cell_type": "markdown",
   "metadata": {},
   "source": [
    "### Задание:\n",
    "Даны три множества a,b и с. Необходимо выполнить все изученные виды бинарных операций над всеми комбинациями множеств."
   ]
  },
  {
   "cell_type": "code",
   "execution_count": 2,
   "metadata": {},
   "outputs": [
    {
     "name": "stdout",
     "output_type": "stream",
     "text": [
      "{'1', '2'}\n",
      "{'3', '2'}\n",
      "{'1', '4'}\n"
     ]
    }
   ],
   "source": [
    "a = set('12')\n",
    "print(a)\n",
    "b = set('23')\n",
    "print(b)\n",
    "c = set('14')\n",
    "print(c)"
   ]
  },
  {
   "cell_type": "code",
   "execution_count": 3,
   "metadata": {
    "scrolled": true
   },
   "outputs": [
    {
     "name": "stdout",
     "output_type": "stream",
     "text": [
      "{'1', '3', '2'} {'1', '2', '4'}\n",
      "{'2'} {'1'}\n",
      "{'1'} {'2'}\n",
      "{'3'} {'4'}\n",
      "{'1', '3'} {'2', '4'}\n"
     ]
    }
   ],
   "source": [
    "print(a | b, a | c)\n",
    "print(a & b, a & c)\n",
    "print(a - b, a - c)\n",
    "print(b - a, c - a)\n",
    "print(a ^ b, a ^ c)"
   ]
  }
 ],
 "metadata": {
  "kernelspec": {
   "display_name": "Python 3",
   "language": "python",
   "name": "python3"
  },
  "language_info": {
   "codemirror_mode": {
    "name": "ipython",
    "version": 3
   },
   "file_extension": ".py",
   "mimetype": "text/x-python",
   "name": "python",
   "nbconvert_exporter": "python",
   "pygments_lexer": "ipython3",
   "version": "3.7.4"
  }
 },
 "nbformat": 4,
 "nbformat_minor": 2
}
